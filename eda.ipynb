{
 "cells": [
  {
   "cell_type": "code",
   "execution_count": 1,
   "metadata": {},
   "outputs": [
    {
     "name": "stdout",
     "output_type": "stream",
     "text": [
      "<class 'pandas.core.series.Series'>\n"
     ]
    }
   ],
   "source": [
    "import pandas as pd\n",
    "s = pd.Series(['Luka','Renato','Ena','Ivana'])\n",
    "print(type(s))"
   ]
  },
  {
   "cell_type": "code",
   "execution_count": 3,
   "metadata": {},
   "outputs": [
    {
     "name": "stdout",
     "output_type": "stream",
     "text": [
      "ekipa\n",
      "<class 'numpy.ndarray'>\n",
      "<class 'str'>\n",
      "RangeIndex(start=0, stop=4, step=1)\n",
      "Renato\n"
     ]
    }
   ],
   "source": [
    "s.name = \"ekipa\"\n",
    "print(s.name)\n",
    "print(type(s.values))\n",
    "print(type(s.name))\n",
    "print(s.index)\n",
    "print(s[1])"
   ]
  },
  {
   "cell_type": "code",
   "execution_count": 5,
   "metadata": {},
   "outputs": [
    {
     "data": {
      "text/plain": [
       "Index(['prvi', 'drugi', 'treci', 'cetvrti'], dtype='object')"
      ]
     },
     "execution_count": 5,
     "metadata": {},
     "output_type": "execute_result"
    }
   ],
   "source": [
    "s.index = ['prvi','drugi','treci','cetvrti']\n",
    "s.index"
   ]
  },
  {
   "cell_type": "code",
   "execution_count": 6,
   "metadata": {},
   "outputs": [
    {
     "data": {
      "text/plain": [
       "prvi        Darko\n",
       "drugi      Renato\n",
       "treci         Ena\n",
       "cetvrti     Ivana\n",
       "Name: ekipa, dtype: object"
      ]
     },
     "execution_count": 6,
     "metadata": {},
     "output_type": "execute_result"
    }
   ],
   "source": [
    "s.prvi =\"Darko\"\n",
    "s"
   ]
  },
  {
   "cell_type": "code",
   "execution_count": 11,
   "metadata": {},
   "outputs": [
    {
     "name": "stdout",
     "output_type": "stream",
     "text": [
      " Index : prvi, Value : Darko\n",
      " Index : drugi, Value : Renato\n",
      " Index : treci, Value : Ena\n",
      " Index : cetvrti, Value : Ivana\n"
     ]
    }
   ],
   "source": [
    "for  index, value in s.items():\n",
    "    print(f\" Index : {index}, Value : {value}\")\n",
    "\n",
    "    if 'd' in index.lower():\n",
    "        s[index] = \"Hrvoje\"\n",
    " \n",
    "    "
   ]
  },
  {
   "cell_type": "code",
   "execution_count": 13,
   "metadata": {},
   "outputs": [
    {
     "name": "stdout",
     "output_type": "stream",
     "text": [
      "Ena\n",
      "Ena\n"
     ]
    }
   ],
   "source": [
    "print(s[2])\n",
    "print(s.treci)"
   ]
  },
  {
   "cell_type": "code",
   "execution_count": 17,
   "metadata": {},
   "outputs": [
    {
     "data": {
      "text/plain": [
       "Index(['Grad', 'godine_iskustva', 'Ekipa'], dtype='object')"
      ]
     },
     "execution_count": 17,
     "metadata": {},
     "output_type": "execute_result"
    }
   ],
   "source": [
    "df = pd.DataFrame({\n",
    "    'Grad': ['Split','Zagreb', 'Lipik', 'Osijek'],'godine_iskustva': [10,8,6,6], 'Ekipa': ['H','R','P','E']\n",
    "},\n",
    " columns=['Grad', 'godine_iskustva', 'Ekipa'])\n",
    "\n",
    "df.columns"
   ]
  },
  {
   "cell_type": "code",
   "execution_count": 19,
   "metadata": {},
   "outputs": [
    {
     "name": "stdout",
     "output_type": "stream",
     "text": [
      "<class 'pandas.core.frame.DataFrame'>\n",
      "Index: 4 entries, bajo to buraz\n",
      "Data columns (total 3 columns):\n",
      " #   Column           Non-Null Count  Dtype \n",
      "---  ------           --------------  ----- \n",
      " 0   Grad             4 non-null      object\n",
      " 1   godine_iskustva  4 non-null      int64 \n",
      " 2   Ekipa            4 non-null      object\n",
      "dtypes: int64(1), object(2)\n",
      "memory usage: 128.0+ bytes\n"
     ]
    }
   ],
   "source": [
    "df.index = ['bajo','brale','bracika','buraz']\n",
    "df\n",
    "df.info()"
   ]
  },
  {
   "cell_type": "code",
   "execution_count": 28,
   "metadata": {},
   "outputs": [
    {
     "name": "stdout",
     "output_type": "stream",
     "text": [
      "Grad               Split\n",
      "godine_iskustva       10\n",
      "Ekipa                  H\n",
      "Name: bajo, dtype: object\n"
     ]
    },
    {
     "data": {
      "text/html": [
       "<div>\n",
       "<style scoped>\n",
       "    .dataframe tbody tr th:only-of-type {\n",
       "        vertical-align: middle;\n",
       "    }\n",
       "\n",
       "    .dataframe tbody tr th {\n",
       "        vertical-align: top;\n",
       "    }\n",
       "\n",
       "    .dataframe thead th {\n",
       "        text-align: right;\n",
       "    }\n",
       "</style>\n",
       "<table border=\"1\" class=\"dataframe\">\n",
       "  <thead>\n",
       "    <tr style=\"text-align: right;\">\n",
       "      <th></th>\n",
       "      <th>godine_iskustva</th>\n",
       "    </tr>\n",
       "  </thead>\n",
       "  <tbody>\n",
       "    <tr>\n",
       "      <th>count</th>\n",
       "      <td>4.000000</td>\n",
       "    </tr>\n",
       "    <tr>\n",
       "      <th>mean</th>\n",
       "      <td>7.500000</td>\n",
       "    </tr>\n",
       "    <tr>\n",
       "      <th>std</th>\n",
       "      <td>1.914854</td>\n",
       "    </tr>\n",
       "    <tr>\n",
       "      <th>min</th>\n",
       "      <td>6.000000</td>\n",
       "    </tr>\n",
       "    <tr>\n",
       "      <th>25%</th>\n",
       "      <td>6.000000</td>\n",
       "    </tr>\n",
       "    <tr>\n",
       "      <th>50%</th>\n",
       "      <td>7.000000</td>\n",
       "    </tr>\n",
       "    <tr>\n",
       "      <th>75%</th>\n",
       "      <td>8.500000</td>\n",
       "    </tr>\n",
       "    <tr>\n",
       "      <th>max</th>\n",
       "      <td>10.000000</td>\n",
       "    </tr>\n",
       "  </tbody>\n",
       "</table>\n",
       "</div>"
      ],
      "text/plain": [
       "       godine_iskustva\n",
       "count         4.000000\n",
       "mean          7.500000\n",
       "std           1.914854\n",
       "min           6.000000\n",
       "25%           6.000000\n",
       "50%           7.000000\n",
       "75%           8.500000\n",
       "max          10.000000"
      ]
     },
     "execution_count": 28,
     "metadata": {},
     "output_type": "execute_result"
    }
   ],
   "source": [
    "\n",
    "print(df.loc['bajo'])\n",
    "df.shape\n",
    "df.size\n",
    "df.describe()"
   ]
  },
  {
   "cell_type": "code",
   "execution_count": 29,
   "metadata": {},
   "outputs": [
    {
     "data": {
      "text/html": [
       "<div>\n",
       "<style scoped>\n",
       "    .dataframe tbody tr th:only-of-type {\n",
       "        vertical-align: middle;\n",
       "    }\n",
       "\n",
       "    .dataframe tbody tr th {\n",
       "        vertical-align: top;\n",
       "    }\n",
       "\n",
       "    .dataframe thead th {\n",
       "        text-align: right;\n",
       "    }\n",
       "</style>\n",
       "<table border=\"1\" class=\"dataframe\">\n",
       "  <thead>\n",
       "    <tr style=\"text-align: right;\">\n",
       "      <th></th>\n",
       "      <th>Grad</th>\n",
       "      <th>godine_iskustva</th>\n",
       "      <th>Ekipa</th>\n",
       "      <th>jela</th>\n",
       "    </tr>\n",
       "  </thead>\n",
       "  <tbody>\n",
       "    <tr>\n",
       "      <th>bajo</th>\n",
       "      <td>Split</td>\n",
       "      <td>10</td>\n",
       "      <td>H</td>\n",
       "      <td>Sarma</td>\n",
       "    </tr>\n",
       "    <tr>\n",
       "      <th>brale</th>\n",
       "      <td>Zagreb</td>\n",
       "      <td>8</td>\n",
       "      <td>R</td>\n",
       "      <td>Paprikas</td>\n",
       "    </tr>\n",
       "    <tr>\n",
       "      <th>bracika</th>\n",
       "      <td>Lipik</td>\n",
       "      <td>6</td>\n",
       "      <td>P</td>\n",
       "      <td>cevapi</td>\n",
       "    </tr>\n",
       "    <tr>\n",
       "      <th>buraz</th>\n",
       "      <td>Osijek</td>\n",
       "      <td>6</td>\n",
       "      <td>E</td>\n",
       "      <td>burek</td>\n",
       "    </tr>\n",
       "  </tbody>\n",
       "</table>\n",
       "</div>"
      ],
      "text/plain": [
       "           Grad  godine_iskustva Ekipa      jela\n",
       "bajo      Split               10     H     Sarma\n",
       "brale    Zagreb                8     R  Paprikas\n",
       "bracika   Lipik                6     P    cevapi\n",
       "buraz    Osijek                6     E     burek"
      ]
     },
     "execution_count": 29,
     "metadata": {},
     "output_type": "execute_result"
    }
   ],
   "source": [
    "najdraze_jelo= pd.Series(['Sarma','Paprikas','cevapi','burek'], index=['bajo','brale','bracika','buraz'],)\n",
    "df['jela']= najdraze_jelo\n",
    "df"
   ]
  }
 ],
 "metadata": {
  "interpreter": {
   "hash": "dfb368311cb2101f9fd97744a48f5b570aafcfaff6c9c681cc11242b96d87004"
  },
  "kernelspec": {
   "display_name": "Python 3.9.7 64-bit ('EDA-env': conda)",
   "language": "python",
   "name": "python3"
  },
  "language_info": {
   "codemirror_mode": {
    "name": "ipython",
    "version": 3
   },
   "file_extension": ".py",
   "mimetype": "text/x-python",
   "name": "python",
   "nbconvert_exporter": "python",
   "pygments_lexer": "ipython3",
   "version": "3.9.7"
  },
  "orig_nbformat": 4
 },
 "nbformat": 4,
 "nbformat_minor": 2
}
